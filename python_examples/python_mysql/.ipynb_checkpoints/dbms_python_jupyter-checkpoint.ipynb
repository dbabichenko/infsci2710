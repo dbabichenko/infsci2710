{
 "cells": [
  {
   "cell_type": "code",
   "execution_count": 2,
   "metadata": {},
   "outputs": [
    {
     "name": "stdout",
     "output_type": "stream",
     "text": [
      "Collecting pymysql\n",
      "  Downloading PyMySQL-1.0.2-py3-none-any.whl (43 kB)\n",
      "\u001b[K     |████████████████████████████████| 43 kB 36 kB/s  eta 0:00:01\n",
      "\u001b[?25hInstalling collected packages: pymysql\n",
      "Successfully installed pymysql-1.0.2\n"
     ]
    }
   ],
   "source": [
    "!pip3 install pymysql"
   ]
  },
  {
   "cell_type": "code",
   "execution_count": 2,
   "metadata": {},
   "outputs": [],
   "source": [
    "import pymysql.cursors\n",
    "import pandas as pd\n",
    "import datetime\n",
    "import uuid\n",
    "import numpy as np\n",
    "from itertools import combinations\n"
   ]
  },
  {
   "cell_type": "code",
   "execution_count": 5,
   "metadata": {},
   "outputs": [],
   "source": [
    "\n",
    "# Connect to the database\n",
    "db_connection = pymysql.connect(host='143.198.177.53',\n",
    "                             user='testUser',\n",
    "                             password='testUser123@!@!',\n",
    "                             db='employees',\n",
    "                             charset='utf8mb4',\n",
    "                             cursorclass=pymysql.cursors.DictCursor)"
   ]
  },
  {
   "cell_type": "markdown",
   "metadata": {},
   "source": [
    "### Selecting results into a Pandas dataframe"
   ]
  },
  {
   "cell_type": "code",
   "execution_count": 8,
   "metadata": {},
   "outputs": [
    {
     "data": {
      "text/html": [
       "<div>\n",
       "<style scoped>\n",
       "    .dataframe tbody tr th:only-of-type {\n",
       "        vertical-align: middle;\n",
       "    }\n",
       "\n",
       "    .dataframe tbody tr th {\n",
       "        vertical-align: top;\n",
       "    }\n",
       "\n",
       "    .dataframe thead th {\n",
       "        text-align: right;\n",
       "    }\n",
       "</style>\n",
       "<table border=\"1\" class=\"dataframe\">\n",
       "  <thead>\n",
       "    <tr style=\"text-align: right;\">\n",
       "      <th></th>\n",
       "      <th>emp_no</th>\n",
       "      <th>birth_date</th>\n",
       "      <th>first_name</th>\n",
       "      <th>last_name</th>\n",
       "      <th>gender</th>\n",
       "      <th>hire_date</th>\n",
       "    </tr>\n",
       "  </thead>\n",
       "  <tbody>\n",
       "    <tr>\n",
       "      <th>0</th>\n",
       "      <td>10001</td>\n",
       "      <td>1953-09-02</td>\n",
       "      <td>Georgi</td>\n",
       "      <td>Facello</td>\n",
       "      <td>M</td>\n",
       "      <td>1986-06-26</td>\n",
       "    </tr>\n",
       "    <tr>\n",
       "      <th>1</th>\n",
       "      <td>10002</td>\n",
       "      <td>1964-06-02</td>\n",
       "      <td>Bezalel</td>\n",
       "      <td>Simmel</td>\n",
       "      <td>F</td>\n",
       "      <td>1985-11-21</td>\n",
       "    </tr>\n",
       "    <tr>\n",
       "      <th>2</th>\n",
       "      <td>10003</td>\n",
       "      <td>1959-12-03</td>\n",
       "      <td>Parto</td>\n",
       "      <td>Bamford</td>\n",
       "      <td>M</td>\n",
       "      <td>1986-08-28</td>\n",
       "    </tr>\n",
       "    <tr>\n",
       "      <th>3</th>\n",
       "      <td>10004</td>\n",
       "      <td>1954-05-01</td>\n",
       "      <td>Chirstian</td>\n",
       "      <td>Koblick</td>\n",
       "      <td>M</td>\n",
       "      <td>1986-12-01</td>\n",
       "    </tr>\n",
       "    <tr>\n",
       "      <th>4</th>\n",
       "      <td>10005</td>\n",
       "      <td>1955-01-21</td>\n",
       "      <td>Kyoichi</td>\n",
       "      <td>Maliniak</td>\n",
       "      <td>M</td>\n",
       "      <td>1989-09-12</td>\n",
       "    </tr>\n",
       "  </tbody>\n",
       "</table>\n",
       "</div>"
      ],
      "text/plain": [
       "   emp_no  birth_date first_name last_name gender   hire_date\n",
       "0   10001  1953-09-02     Georgi   Facello      M  1986-06-26\n",
       "1   10002  1964-06-02    Bezalel    Simmel      F  1985-11-21\n",
       "2   10003  1959-12-03      Parto   Bamford      M  1986-08-28\n",
       "3   10004  1954-05-01  Chirstian   Koblick      M  1986-12-01\n",
       "4   10005  1955-01-21    Kyoichi  Maliniak      M  1989-09-12"
      ]
     },
     "execution_count": 8,
     "metadata": {},
     "output_type": "execute_result"
    }
   ],
   "source": [
    "qry = \"SELECT * FROM employees;\"\n",
    "employees = pd.read_sql(qry, con=db_connection)\n",
    "employees.head()"
   ]
  },
  {
   "cell_type": "code",
   "execution_count": 9,
   "metadata": {},
   "outputs": [
    {
     "data": {
      "text/html": [
       "<div>\n",
       "<style scoped>\n",
       "    .dataframe tbody tr th:only-of-type {\n",
       "        vertical-align: middle;\n",
       "    }\n",
       "\n",
       "    .dataframe tbody tr th {\n",
       "        vertical-align: top;\n",
       "    }\n",
       "\n",
       "    .dataframe thead th {\n",
       "        text-align: right;\n",
       "    }\n",
       "</style>\n",
       "<table border=\"1\" class=\"dataframe\">\n",
       "  <thead>\n",
       "    <tr style=\"text-align: right;\">\n",
       "      <th></th>\n",
       "      <th>emp_no</th>\n",
       "      <th>salary</th>\n",
       "      <th>from_date</th>\n",
       "      <th>to_date</th>\n",
       "    </tr>\n",
       "  </thead>\n",
       "  <tbody>\n",
       "    <tr>\n",
       "      <th>0</th>\n",
       "      <td>10001</td>\n",
       "      <td>60117</td>\n",
       "      <td>1986-06-26</td>\n",
       "      <td>1987-06-26</td>\n",
       "    </tr>\n",
       "    <tr>\n",
       "      <th>1</th>\n",
       "      <td>10001</td>\n",
       "      <td>62102</td>\n",
       "      <td>1987-06-26</td>\n",
       "      <td>1988-06-25</td>\n",
       "    </tr>\n",
       "    <tr>\n",
       "      <th>2</th>\n",
       "      <td>10001</td>\n",
       "      <td>66074</td>\n",
       "      <td>1988-06-25</td>\n",
       "      <td>1989-06-25</td>\n",
       "    </tr>\n",
       "    <tr>\n",
       "      <th>3</th>\n",
       "      <td>10001</td>\n",
       "      <td>66596</td>\n",
       "      <td>1989-06-25</td>\n",
       "      <td>1990-06-25</td>\n",
       "    </tr>\n",
       "    <tr>\n",
       "      <th>4</th>\n",
       "      <td>10001</td>\n",
       "      <td>66961</td>\n",
       "      <td>1990-06-25</td>\n",
       "      <td>1991-06-25</td>\n",
       "    </tr>\n",
       "  </tbody>\n",
       "</table>\n",
       "</div>"
      ],
      "text/plain": [
       "   emp_no  salary   from_date     to_date\n",
       "0   10001   60117  1986-06-26  1987-06-26\n",
       "1   10001   62102  1987-06-26  1988-06-25\n",
       "2   10001   66074  1988-06-25  1989-06-25\n",
       "3   10001   66596  1989-06-25  1990-06-25\n",
       "4   10001   66961  1990-06-25  1991-06-25"
      ]
     },
     "execution_count": 9,
     "metadata": {},
     "output_type": "execute_result"
    }
   ],
   "source": [
    "qry = \"SELECT * FROM salaries;\"\n",
    "salaries = pd.read_sql(qry, con=db_connection)\n",
    "salaries.head()"
   ]
  },
  {
   "cell_type": "code",
   "execution_count": 12,
   "metadata": {},
   "outputs": [],
   "source": [
    "result = pd.merge(employees, salaries, how='left', left_on='emp_no', right_on='emp_no')"
   ]
  },
  {
   "cell_type": "code",
   "execution_count": 13,
   "metadata": {},
   "outputs": [
    {
     "data": {
      "text/plain": [
       "(2844047, 9)"
      ]
     },
     "execution_count": 13,
     "metadata": {},
     "output_type": "execute_result"
    }
   ],
   "source": [
    "result.shape"
   ]
  },
  {
   "cell_type": "markdown",
   "metadata": {},
   "source": [
    "### Selecting results using a pymysql cursor"
   ]
  },
  {
   "cell_type": "code",
   "execution_count": 14,
   "metadata": {},
   "outputs": [
    {
     "name": "stdout",
     "output_type": "stream",
     "text": [
      "10001 Georgi Facello\n",
      "10002 Bezalel Simmel\n",
      "10003 Parto Bamford\n",
      "10004 Chirstian Koblick\n",
      "10005 Kyoichi Maliniak\n",
      "10006 Anneke Preusig\n",
      "10007 Tzvetan Zielinski\n",
      "10008 Saniya Kalloufi\n",
      "10009 Sumant Peac\n",
      "10010 Duangkaew Piveteau\n",
      "10011 Mary Sluis\n",
      "10012 Patricio Bridgland\n",
      "10013 Eberhardt Terkki\n",
      "10014 Berni Genin\n",
      "10015 Guoxiang Nooteboom\n",
      "10016 Kazuhito Cappelletti\n",
      "10017 Cristinel Bouloucos\n",
      "10018 Kazuhide Peha\n",
      "10019 Lillian Haddadi\n",
      "10020 Mayuko Warwick\n"
     ]
    }
   ],
   "source": [
    "con = pymysql.connect(host='143.198.177.53',\n",
    "                             user='testUser',\n",
    "                             password='testUser123@!@!',\n",
    "                             db='employees',\n",
    "                             charset='utf8mb4',\n",
    "                             cursorclass=pymysql.cursors.DictCursor)\n",
    "try:\n",
    "\n",
    "    with con.cursor() as cur:\n",
    "\n",
    "        cur.execute('SELECT * FROM employees LIMIT 20;')\n",
    "\n",
    "        rows = cur.fetchall()\n",
    "\n",
    "        for row in rows:\n",
    "            print(row['emp_no'], row['first_name'], row['last_name'])\n",
    "\n",
    "finally:\n",
    "\n",
    "    con.close()"
   ]
  },
  {
   "cell_type": "markdown",
   "metadata": {},
   "source": [
    "### Escaping parameters / Parametrized Queries"
   ]
  },
  {
   "cell_type": "code",
   "execution_count": 17,
   "metadata": {},
   "outputs": [
    {
     "name": "stdout",
     "output_type": "stream",
     "text": [
      "Please enter your user name: dmitriy'; DELETE FROM users;#\n",
      "Please enter your password: garbage\n",
      "SELECT * FROM users WHERE uname = 'dmitriy'; DELETE FROM users;#' AND password = 'garbage'\n"
     ]
    }
   ],
   "source": [
    "uname = input(\"Please enter your user name: \")\n",
    "password = input(\"Please enter your password: \")\n",
    "\n",
    "q = \"SELECT * FROM users WHERE uname = '\" + uname + \"' AND password = '\" + password + \"'\";\n",
    "print(q)"
   ]
  },
  {
   "cell_type": "code",
   "execution_count": 19,
   "metadata": {},
   "outputs": [
    {
     "name": "stdout",
     "output_type": "stream",
     "text": [
      "Please enter employee number: 10005; DELETE FROM employees; #\n",
      "SELECT * FROM employees WHERE emp_no = 10005; DELETE FROM employees; #\n"
     ]
    }
   ],
   "source": [
    "emp_no = input(\"Please enter employee number: \")\n",
    "q = \"SELECT * FROM employees WHERE emp_no = \" + emp_no;\n",
    "print(q)"
   ]
  },
  {
   "cell_type": "code",
   "execution_count": 21,
   "metadata": {},
   "outputs": [
    {
     "name": "stdout",
     "output_type": "stream",
     "text": [
      "Kyoichi Maliniak\n"
     ]
    }
   ],
   "source": [
    "con = pymysql.connect(host='143.198.177.53',\n",
    "                             user='testUser',\n",
    "                             password='testUser123@!@!',\n",
    "                             db='employees',\n",
    "                             charset='utf8mb4',\n",
    "                             cursorclass=pymysql.cursors.DictCursor)\n",
    "\n",
    "\n",
    "emp_no = 10005\n",
    "gender = 'M'\n",
    "try: \n",
    "\n",
    "    with con.cursor() as cur:\n",
    "        cur.execute('SELECT * FROM employees WHERE emp_no=%s AND gender=%s', [emp_no, gender]) \n",
    "        \n",
    "        rows = cur.fetchall()\n",
    "\n",
    "        for row in rows:\n",
    "            print(row['first_name'], row['last_name'])\n",
    "finally:\n",
    "\n",
    "    con.close()"
   ]
  },
  {
   "cell_type": "markdown",
   "metadata": {},
   "source": [
    "### Insert a row with PyMySQL"
   ]
  },
  {
   "cell_type": "code",
   "execution_count": 28,
   "metadata": {},
   "outputs": [],
   "source": [
    "con = pymysql.connect(host='143.198.177.53',\n",
    "                             user='testUser',\n",
    "                             password='testUser123@!@!',\n",
    "                             db='employees',\n",
    "                             charset='utf8mb4',\n",
    "                             cursorclass=pymysql.cursors.DictCursor)\n",
    "\n",
    "\n",
    "\n",
    "try: \n",
    "\n",
    "    with con.cursor() as cur:\n",
    "        q = \"INSERT INTO employees (emp_no, birth_date, first_name, last_name, gender, hire_date) \"\n",
    "        q += \"VALUES (%s,%s,%s,%s,%s,NOW());\"\n",
    "\n",
    "        cur.execute(q, (1, '1977-10-10', 'Dmitriy', 'Babichenko', 'M')) \n",
    "        con.commit()\n",
    "\n",
    "finally:\n",
    "\n",
    "    con.close()\n"
   ]
  },
  {
   "cell_type": "markdown",
   "metadata": {},
   "source": [
    "### Update a MySQL table with PyMySQL"
   ]
  },
  {
   "cell_type": "code",
   "execution_count": 27,
   "metadata": {},
   "outputs": [],
   "source": [
    "con = pymysql.connect(host='143.198.177.53',\n",
    "                             user='testUser',\n",
    "                             password='testUser123@!@!',\n",
    "                             db='employees',\n",
    "                             charset='utf8mb4',\n",
    "                             cursorclass=pymysql.cursors.DictCursor)\n",
    "\n",
    "\n",
    "\n",
    "try: \n",
    "\n",
    "    with con.cursor() as cur:\n",
    "        qry = 'UPDATE books SET first_name = %s WHERE book_id = %s'\n",
    "\n",
    "        cur.execute(qry, ('Bob', 3)) \n",
    "        con.commit()\n",
    "\n",
    "finally:\n",
    "\n",
    "    con.close()\n"
   ]
  },
  {
   "cell_type": "markdown",
   "metadata": {},
   "source": [
    "### Delete from a MySQL table with PyMySQL"
   ]
  },
  {
   "cell_type": "code",
   "execution_count": 28,
   "metadata": {},
   "outputs": [],
   "source": [
    "con = pymysql.connect(host='143.198.177.53',\n",
    "                             user='testUser',\n",
    "                             password='testUser123@!@!',\n",
    "                             db='employees',\n",
    "                             charset='utf8mb4',\n",
    "                             cursorclass=pymysql.cursors.DictCursor)\n",
    "\n",
    "\n",
    "\n",
    "try: \n",
    "\n",
    "    with con.cursor() as cur:\n",
    "        qry = 'DELETE FROM books WHERE book_id = %s'\n",
    "\n",
    "        cur.execute(qry, (3)) \n",
    "        con.commit()\n",
    "\n",
    "finally:\n",
    "\n",
    "    con.close()\n"
   ]
  },
  {
   "cell_type": "code",
   "execution_count": null,
   "metadata": {},
   "outputs": [],
   "source": []
  }
 ],
 "metadata": {
  "kernelspec": {
   "display_name": "Python 3",
   "language": "python",
   "name": "python3"
  },
  "language_info": {
   "codemirror_mode": {
    "name": "ipython",
    "version": 3
   },
   "file_extension": ".py",
   "mimetype": "text/x-python",
   "name": "python",
   "nbconvert_exporter": "python",
   "pygments_lexer": "ipython3",
   "version": "3.8.8"
  }
 },
 "nbformat": 4,
 "nbformat_minor": 2
}
