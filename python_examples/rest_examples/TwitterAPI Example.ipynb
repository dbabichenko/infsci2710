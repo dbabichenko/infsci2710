{
 "cells": [
  {
   "cell_type": "markdown",
   "metadata": {},
   "source": [
    "### Working with Twitter API\n",
    "\n",
    "This tutorial is based on examples provided at https://www.earthdatascience.org/courses/use-data-open-source-python/intro-to-apis/twitter-data-in-python/\n",
    "\n",
    "For this tutorial you will need to register for a Twitter developer account and obtain Twitter API keys (https://developer.twitter.com/en).\n",
    "\n",
    "To access the Twitter API, you will need 4 things from the your Twitter App page. These keys are located in your Twitter app settings in the Keys and Access Tokens tab.\n",
    "\n",
    "* consumer key\n",
    "* consumer seceret key\n",
    "* access token key\n",
    "* access token secret key\n",
    "\n",
    "This version of the tutorial is using your instructor's API keys - please make sure to replace them with your own keys if you want to experiment with this code\n",
    "\n",
    "You will also need to install the tweepy module using one of the following commands:\n",
    "\n",
    "* pip install tweepy\n",
    "* pip3 install tweepy\n",
    "* conda install tweepy\n",
    "\n"
   ]
  },
  {
   "cell_type": "code",
   "execution_count": null,
   "metadata": {},
   "outputs": [],
   "source": [
    "import os\n",
    "import tweepy as tw"
   ]
  },
  {
   "cell_type": "code",
   "execution_count": null,
   "metadata": {},
   "outputs": [],
   "source": [
    "# Define your twitter API keys\n",
    "consumer_key= 'yourkeyhere'\n",
    "consumer_secret= 'yourkeyhere'\n",
    "access_token= 'yourkeyhere'\n",
    "access_token_secret= 'yourkeyhere'"
   ]
  },
  {
   "cell_type": "code",
   "execution_count": null,
   "metadata": {},
   "outputs": [],
   "source": [
    "# These are your instructor's keys - if you are planning on experimenting with this code\n",
    "# please delete this entire block and use your own keys in the code block above\n",
    "consumer_key = '3tvxSM7Of1giPWxngUjDiatkd'\n",
    "consumer_secret = 'AZUsaWnMaUYXLcrNS74sLD0p9za2GzL0LpgrZIUGn3Zk5UrFrz'\n",
    "access_token = '63175705-PdeWIim8wJUskrAFVHfGPwJ2wKRREaZGWzo74TIZx'\n",
    "access_token_secret = '1jYdgoDFN6WA5rOrp4VL0GQicvMJiwVybVkQXWTlwPW1l'"
   ]
  },
  {
   "cell_type": "code",
   "execution_count": null,
   "metadata": {},
   "outputs": [],
   "source": [
    "# Connect to twitter API:\n",
    "auth = tw.OAuthHandler(consumer_key, consumer_secret)\n",
    "auth.set_access_token(access_token, access_token_secret)\n",
    "api = tw.API(auth, wait_on_rate_limit=True)"
   ]
  },
  {
   "cell_type": "code",
   "execution_count": null,
   "metadata": {},
   "outputs": [],
   "source": [
    "# Define the search term and the date_since date as variables\n",
    "search_words = \"#vaccine\"\n"
   ]
  },
  {
   "cell_type": "markdown",
   "metadata": {},
   "source": [
    ".Cursor() returns an object that you can iterate or loop over to access the data collected. Each item in the iterator has various attributes that you can access to get information about each tweet including:\n",
    "\n",
    "* the text of the tweet\n",
    "* who sent the tweet\n",
    "* the date the tweet was sent\n",
    "* ... and more\n",
    "\n",
    "The code below loops through the object and prints the text associated with each tweet."
   ]
  },
  {
   "cell_type": "code",
   "execution_count": null,
   "metadata": {},
   "outputs": [],
   "source": [
    "try:\n",
    "    # Collect tweets\n",
    "    tweets = tw.Cursor(api.search,\n",
    "            q=search_words,\n",
    "            lang='en').items()\n",
    "except tw.TweepError as e:\n",
    "    if e == \"[{u'message': u'Rate limit exceeded', u'code': 88}]\":\n",
    "        print(e)\n",
    "        time.sleep(60*5) #Sleep for 5 minutes\n",
    "    else:\n",
    "        print(e)"
   ]
  },
  {
   "cell_type": "code",
   "execution_count": null,
   "metadata": {},
   "outputs": [],
   "source": [
    "# Iterate and print tweets\n",
    "for tweet in tweets:\n",
    "    print(tweet.text)\n",
    "    break;"
   ]
  },
  {
   "cell_type": "markdown",
   "metadata": {},
   "source": [
    "**To Keep or Remove Retweets**\n",
    "A retweet is when someone shares someone else’s tweet. It is similar to sharing in Facebook. Sometimes you may want to remove retweets as they contain duplicate content that might skew your analysis if you are only looking at word frequency. Other times, you may want to keep retweets.\n",
    "\n",
    "Below you ignore all retweets by adding -filter:retweets to your query. The Twitter API documentation (https://developer.twitter.com/en/docs/tweets/rules-and-filtering/overview/standard-operators) has information on other ways to customize your queries."
   ]
  },
  {
   "cell_type": "code",
   "execution_count": null,
   "metadata": {},
   "outputs": [],
   "source": [
    "new_search = search_words + \" -filter:retweets\"\n",
    "print(new_search)"
   ]
  },
  {
   "cell_type": "code",
   "execution_count": null,
   "metadata": {},
   "outputs": [],
   "source": [
    "# Collect tweets (without re-tweets)\n",
    "try:\n",
    "    # Collect tweets\n",
    "    tweets = tw.Cursor(api.search,\n",
    "            q=search_words,\n",
    "            lang='en').items()\n",
    "except tw.TweepError as e:\n",
    "    if e == \"[{u'message': u'Rate limit exceeded', u'code': 88}]\":\n",
    "        print(e)\n",
    "        time.sleep(60*5) #Sleep for 5 minutes\n",
    "    else:\n",
    "        print(e)\n",
    "\n",
    "# Iterate and print tweets\n",
    "for tweet in tweets:\n",
    "    print(tweet.text)"
   ]
  },
  {
   "cell_type": "code",
   "execution_count": null,
   "metadata": {},
   "outputs": [],
   "source": []
  }
 ],
 "metadata": {
  "kernelspec": {
   "display_name": "Python 3",
   "language": "python",
   "name": "python3"
  },
  "language_info": {
   "codemirror_mode": {
    "name": "ipython",
    "version": 3
   },
   "file_extension": ".py",
   "mimetype": "text/x-python",
   "name": "python",
   "nbconvert_exporter": "python",
   "pygments_lexer": "ipython3",
   "version": "3.8.5"
  }
 },
 "nbformat": 4,
 "nbformat_minor": 4
}
