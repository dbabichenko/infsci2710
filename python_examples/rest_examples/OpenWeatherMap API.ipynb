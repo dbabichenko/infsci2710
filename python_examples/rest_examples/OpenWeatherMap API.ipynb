{
 "cells": [
  {
   "cell_type": "markdown",
   "metadata": {},
   "source": [
    "## OpenWeatherMap Example\n",
    "\n",
    "This is an example of how you can use Python to access RESTful API. In this particular example we will access data from OpenWeatherMap and parse it for future use/analysis using a combination of JSON and Python dictionaries.\n",
    "\n",
    "This tutorial is based on a GeeksForGeeks OpenWeatherMap tutorial - you can find the original tutorial here: https://www.geeksforgeeks.org/python-find-current-weather-of-any-city-using-openweathermap-api/\n",
    "\n",
    "In order for you to use this tutorial, you need to obtain an OpenWeatherMap API key:\n",
    "1. Go to https://home.openweathermap.org/users/sign_in\n",
    "2. Create an account\n",
    "3. Sign in\n",
    "4. Once you sign in, click on \"API Keys\" link\n",
    "5. Generate a new API key\n",
    "6. Copy your new API key and paste it into the block below (where the comment says \"Enter your API key here\")\n",
    "\n",
    "For now, this example is using the instructor's API key - please replace it with your own if you are planning on experimenting with this code"
   ]
  },
  {
   "cell_type": "code",
   "execution_count": 7,
   "metadata": {},
   "outputs": [],
   "source": [
    "# import required modules \n",
    "import requests, json "
   ]
  },
  {
   "cell_type": "code",
   "execution_count": 8,
   "metadata": {},
   "outputs": [],
   "source": [
    "# Enter your API key here \n",
    "#api_key = \"Your_API_Key\"\n",
    "api_key = \"bd90de086e09bf23d749d5f2243c3b06\"\n",
    "  \n",
    "# base_url variable to store url \n",
    "base_url = \"http://api.openweathermap.org/data/2.5/weather?\""
   ]
  },
  {
   "cell_type": "code",
   "execution_count": 12,
   "metadata": {},
   "outputs": [
    {
     "name": "stdout",
     "output_type": "stream",
     "text": [
      "Enter city name : Paris\n",
      "http://api.openweathermap.org/data/2.5/weather?appid=bd90de086e09bf23d749d5f2243c3b06&q=Paris\n"
     ]
    }
   ],
   "source": [
    "# Provide city name \n",
    "city_name = input(\"Enter city name : \") \n",
    "  \n",
    "# complete_url variable to store \n",
    "# complete url address \n",
    "complete_url = base_url + \"appid=\" + api_key + \"&q=\" + city_name \n",
    "\n",
    "print(complete_url)\n",
    "# get method of requests module \n",
    "# return response object \n",
    "response = requests.get(complete_url) \n",
    "  \n",
    "# json method of response object  \n",
    "# convert json format data into \n",
    "# python format data \n",
    "data = response.json() "
   ]
  },
  {
   "cell_type": "code",
   "execution_count": 13,
   "metadata": {},
   "outputs": [
    {
     "name": "stdout",
     "output_type": "stream",
     "text": [
      "{'coord': {'lon': 2.3488, 'lat': 48.8534}, 'weather': [{'id': 804, 'main': 'Clouds', 'description': 'overcast clouds', 'icon': '04d'}], 'base': 'stations', 'main': {'temp': 280.2, 'feels_like': 279.64, 'temp_min': 279.26, 'temp_max': 280.97, 'pressure': 1002, 'humidity': 90}, 'visibility': 10000, 'wind': {'speed': 1.34, 'deg': 135, 'gust': 3.58}, 'clouds': {'all': 90}, 'dt': 1638889003, 'sys': {'type': 2, 'id': 2041230, 'country': 'FR', 'sunrise': 1638862204, 'sunset': 1638892469}, 'timezone': 3600, 'id': 2988507, 'name': 'Paris', 'cod': 200}\n"
     ]
    }
   ],
   "source": [
    "# Let's take a look at what our data looks like:\n",
    "print(data)"
   ]
  },
  {
   "cell_type": "code",
   "execution_count": 17,
   "metadata": {},
   "outputs": [
    {
     "name": "stdout",
     "output_type": "stream",
     "text": [
      "Temperature (in kelvin unit): 280.2\n",
      "Temperature (in F. unit):  44.69000000000002\n",
      "Atmospheric pressure (in hPa unit): 1002\n",
      "Humidity (in percentage): 90\n",
      "Description: overcast clouds\n"
     ]
    }
   ],
   "source": [
    "# Now data contains list of nested dictionaries \n",
    "# Check the value of \"cod\" key is equal to \n",
    "# \"404\", means city is found otherwise, \n",
    "# city is not found \n",
    "if data[\"cod\"] != \"404\": \n",
    "    # store the value of \"main\" \n",
    "    # key in variable y \n",
    "    main_data = data[\"main\"] \n",
    "  \n",
    "    # store the value corresponding \n",
    "    # to the \"temp\" key of  main_data\n",
    "    current_temperature = main_data[\"temp\"] \n",
    "  \n",
    "    # store the value corresponding \n",
    "    # to the \"pressure\" key of main_data \n",
    "    current_pressure = main_data[\"pressure\"] \n",
    "  \n",
    "    # store the value corresponding \n",
    "    # to the \"humidity\" key of main_data \n",
    "    current_humidiy = main_data[\"humidity\"] \n",
    "  \n",
    "    # store the value of \"weather\" \n",
    "    # key in variable weather\n",
    "    weather = data[\"weather\"] \n",
    "  \n",
    "    # store the value corresponding  \n",
    "    # to the \"description\" key at  \n",
    "    # the 0th index of weather\n",
    "    weather_description = weather[0][\"description\"] \n",
    "  \n",
    "    # print following values \n",
    "    print(\"Temperature (in kelvin unit): \" + str(current_temperature))\n",
    "    print(\"Temperature (in F. unit): \", (float(current_temperature) - 273.15) * 9/5 + 32)\n",
    "    print(\"Atmospheric pressure (in hPa unit): \" + str(current_pressure))\n",
    "    print(\"Humidity (in percentage): \" + str(current_humidiy))\n",
    "    print(\"Description: \" + str(weather_description))\n",
    "else: \n",
    "    print(\" City Not Found \") "
   ]
  },
  {
   "cell_type": "code",
   "execution_count": null,
   "metadata": {},
   "outputs": [],
   "source": []
  }
 ],
 "metadata": {
  "kernelspec": {
   "display_name": "Python 3",
   "language": "python",
   "name": "python3"
  },
  "language_info": {
   "codemirror_mode": {
    "name": "ipython",
    "version": 3
   },
   "file_extension": ".py",
   "mimetype": "text/x-python",
   "name": "python",
   "nbconvert_exporter": "python",
   "pygments_lexer": "ipython3",
   "version": "3.8.5"
  }
 },
 "nbformat": 4,
 "nbformat_minor": 4
}
